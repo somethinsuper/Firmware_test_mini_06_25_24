{
 "cells": [
  {
   "cell_type": "markdown",
   "metadata": {},
   "source": [
    "\n",
    "# Min Max by Holland Sersen\n",
    "Used to create interpolated values between the given points Jesus Ortiz left for testing. This script exports these\n",
    "values to a .npy file that can be used throughout the project.\n",
    "\n",
    "### PLEASE NOTE:\n",
    "I changed the number of steps from 8 to 42. I assume Jesus took the most important values to do the test.\n",
    "However when graphing it made it very hard to really understand what was happening at each point. \n",
    "Taking a snapshot at each step increaese overall understanding and accuracy of the test\n",
    "\n",
    "### Explanation:\n",
    "Using this equation we can get any point between two points. \n",
    "$x$ is the current step value. $x_1$ and $x_2$ are the step values x falls inbetween.\n",
    "$y$, $y_1$ and $y_2$ are the output of the respective $x_1$ and $x_2$\n",
    "\n",
    "\n",
    "$$\n",
    "\\frac{x - x_1}{x_1 - x_2} = \\frac{y - y_1}{y_1 - y_2}\n",
    "$$\n",
    "\n",
    "Solving for $y$:\n",
    "$$\n",
    "y = \\frac{x - x1}{x1 - x2} * (y1 - y2) + y1\n",
    "$$\n",
    "\n"
   ]
  },
  {
   "cell_type": "code",
   "execution_count": 4,
   "metadata": {},
   "outputs": [
    {
     "name": "stdout",
     "output_type": "stream",
     "text": [
      "[4.947368421052632, 4.9447368421052635, 4.942105263157895, 4.939473684210527, 4.936842105263158, 4.934210526315789, 4.931578947368421, 4.928947368421053, 4.926315789473684, 4.923684210526316, 4.921052631578948, 4.9184210526315795, 4.915789473684211, 4.913157894736843, 4.910526315789474, 4.907894736842105, 4.905263157894737, 4.902631578947369, 4.9, 4.866666666666667, 4.833333333333333, 4.8, 4.15, 3.5, 2.85, 2.7333333333333334, 2.6166666666666667, 2.5, 2.3666666666666667, 2.2333333333333334, 2.1, 1.9666666666666668, 1.8333333333333333, 1.7, 1.6375, 1.575, 1.5125, 1.45, 1.3625, 1.275, 1.1875]\n",
      "[3.8, 3.6999999999999997, 3.6, 3.5, 3.4, 3.3, 3.2, 3.1, 3.0, 2.9, 2.8, 2.7, 2.5999999999999996, 2.5, 2.4, 2.3, 2.2, 2.1, 2.0, 1.9333333333333333, 1.8666666666666667, 1.8, 1.6333333333333333, 1.4666666666666668, 1.3, 1.25, 1.2, 1.15, 1.075, 1.0, 0.9249999999999999, 0.85, 0.7749999999999999, 0.7, 0.6625, 0.625, 0.5875, 0.55, 0.525, 0.5, 0.47500000000000003]\n"
     ]
    }
   ],
   "source": [
    "import numpy as np\n",
    "\n",
    "# Constant resistance values for tests\n",
    "STEP_VALUE = [250, 231, 228, 225, 222, 216, 212, 208, 178]\n",
    "\n",
    "# The min and max values from tests\n",
    "CORRECT_HIGH_VALUE = [4.95, 4.90, 4.80, 2.85, 2.50, 1.70, 1.45, 1.1, 1]\n",
    "CORRECT_LOW_VALUE = [3.90, 2.00, 1.80, 1.30, 1.15, 0.70, 0.55, 0.45, 0.44]\n",
    "\n",
    "# Number of steps. 250 - 208 = 42\n",
    "NUM_STEPS = 72\n",
    "\n",
    "# Number of Sig Figs\n",
    "SIG_FIGS = 15\n",
    "ROUND_VALUES = False\n",
    "\n",
    "\n",
    "# (x - x1) / (x1 - x2) = (y - y1) / (y1 - y2) Solve for Y\n",
    "# y = ((x - x1) / (x1 - x2)) * (y1 - y2) + y1\n",
    "def Point_Eq(x: int, x1: int, x2: int, y1: float, y2: float):\n",
    "    left = (x - x1) / (x1 - x2)\n",
    "    left = left * (y1 - y2)\n",
    "    return float(left + y1)\n",
    "\n",
    "# Round all the values to 3 sig figs. Can be removed\n",
    "def round_to_sig_figs(num, sig_figs):\n",
    "    if num == 0:\n",
    "        return 0\n",
    "    else:\n",
    "        return round(num, sig_figs - int(np.floor(np.log10(abs(num)))) - 1)\n",
    "\n",
    "ex_1 = Point_Eq(222, 222, 216, 2.50, 1.7)\n",
    "#print(ex_1)\n",
    "\n",
    "output_high = []\n",
    "output_l = []\n",
    "current_num = 0\n",
    "\n",
    "# Go through each Step and caluculate its value\n",
    "for i in range(1, NUM_STEPS):\n",
    "    current_step = 250 - i\n",
    "    temp_h = Point_Eq(current_step, STEP_VALUE[current_num], STEP_VALUE[current_num + 1],\n",
    "                      CORRECT_HIGH_VALUE[current_num], CORRECT_HIGH_VALUE[current_num + 1])\n",
    "    temp_l = Point_Eq(current_step, STEP_VALUE[current_num], STEP_VALUE[current_num + 1],\n",
    "                      CORRECT_LOW_VALUE[current_num], CORRECT_LOW_VALUE[current_num + 1])\n",
    "    \n",
    "    # Round the values if wanted\n",
    "    if(ROUND_VALUES):\n",
    "        temp_h = round_to_sig_figs(temp_h, SIG_FIGS)\n",
    "        temp_l = round_to_sig_figs(temp_l, SIG_FIGS)\n",
    "        \n",
    "    # Append to array\n",
    "    output_high.append(temp_h)\n",
    "    output_l.append(temp_l)\n",
    "    \n",
    "    # If x is not betweeen current x1 and x2 then add 1 to current num\n",
    "    if(current_step == STEP_VALUE[current_num + 1]):\n",
    "        current_num = current_num + 1\n",
    "        \n",
    "# Save Values to numpy file so it can be read later\n",
    "np.save('correct_high_value.npy', output_high)\n",
    "np.save('correct_low_value.npy', output_l)\n",
    "print(output_high)\n",
    "print(output_l)\n",
    "\n"
   ]
  },
  {
   "cell_type": "markdown",
   "metadata": {},
   "source": []
  }
 ],
 "metadata": {
  "kernelspec": {
   "display_name": ".venv",
   "language": "python",
   "name": "python3"
  },
  "language_info": {
   "codemirror_mode": {
    "name": "ipython",
    "version": 3
   },
   "file_extension": ".py",
   "mimetype": "text/x-python",
   "name": "python",
   "nbconvert_exporter": "python",
   "pygments_lexer": "ipython3",
   "version": "3.12.3"
  }
 },
 "nbformat": 4,
 "nbformat_minor": 2
}
